{
 "cells": [
  {
   "cell_type": "code",
   "execution_count": 1,
   "id": "3b9c969d-5f4d-467f-9c4a-df3315f7a2c6",
   "metadata": {},
   "outputs": [],
   "source": [
    "import os\n",
    "import sys\n",
    "import pathlib\n",
    "import datetime\n",
    "\n",
    "from osgeo import gdal\n",
    "import pandas as pd\n",
    "import numpy as np\n",
    "import rasterio as rio"
   ]
  },
  {
   "cell_type": "markdown",
   "id": "a3d740d8-7c88-43b5-a087-06b5270aa44d",
   "metadata": {},
   "source": [
    "# Working with ASAR RSLC GEOTIFFS (LEVEL1)"
   ]
  },
  {
   "cell_type": "markdown",
   "id": "5d40cda0-d918-4801-9899-dc669dadd077",
   "metadata": {},
   "source": [
    "## Downloads"
   ]
  },
  {
   "cell_type": "code",
   "execution_count": null,
   "id": "dc323cd3-7a81-41ea-8c83-d271052543f4",
   "metadata": {
    "tags": []
   },
   "outputs": [],
   "source": [
    "%%bash\n",
    "wget http://downloaduav.jpl.nasa.gov/Release2b/bonanz_25906_A2114_002_210728/V1.3.B/ASAR_L_S_JOINT_FP_ID25906_LINE02_RUN01_280721_LEVEL1_BAND_META_HDF5_V1.3.B.txt\n",
    "wget http://downloaduav.jpl.nasa.gov/Release2b/bonanz_25906_A2114_002_210728/V1.3.B/ASAR_L_S_JOINT_FP_ID25906_LINE02_RUN01_280721_LEVEL1_BAND_META_V1.3.B.txt\n",
    "wget http://downloaduav.jpl.nasa.gov/Release2b/bonanz_25906_A2114_002_210728/V1.3.B/ASAR_L_S_JOINT_FP_ID25906_LINE02_RUN01_280721_LEVEL1_GRID_V1.3.B.txt\n",
    "wget http://downloaduav.jpl.nasa.gov/Release2b/bonanz_25906_A2114_002_210728/V1.3.B/ASAR_L_S_JOINT_FP_ID25906_LINE02_RUN01_280721_LEVEL1_INC_MAP_V1.3.B.tif\n",
    "wget http://downloaduav.jpl.nasa.gov/Release2b/bonanz_25906_A2114_002_210728/V1.3.B/ASAR_L_S_JOINT_FP_ID25906_LINE02_RUN01_280721_LEVEL1_PRODUCT_HDF5_V1.3.B.xml\n",
    "wget http://downloaduav.jpl.nasa.gov/Release2b/bonanz_25906_A2114_002_210728/V1.3.B/ASAR_L_S_JOINT_FP_ID25906_LINE02_RUN01_280721_LEVEL1_PRODUCT_V1.3.B.xml\n",
    "wget http://downloaduav.jpl.nasa.gov/Release2b/bonanz_25906_A2114_002_210728/V1.3.B/L/ASAR_L_JOINT_FP_ID25906_LINE02_RUN01_280721_LEVEL1_HH_V1.3.B.jpg\n",
    "wget http://downloaduav.jpl.nasa.gov/Release2b/bonanz_25906_A2114_002_210728/V1.3.B/L/ASAR_L_JOINT_FP_ID25906_LINE02_RUN01_280721_LEVEL1_HH_V1.3.B.tif\n",
    "wget http://downloaduav.jpl.nasa.gov/Release2b/bonanz_25906_A2114_002_210728/V1.3.B/L/ASAR_L_JOINT_FP_ID25906_LINE02_RUN01_280721_LEVEL1_HV_V1.3.B.jpg\n",
    "wget http://downloaduav.jpl.nasa.gov/Release2b/bonanz_25906_A2114_002_210728/V1.3.B/L/ASAR_L_JOINT_FP_ID25906_LINE02_RUN01_280721_LEVEL1_HV_V1.3.B.tif\n",
    "wget http://downloaduav.jpl.nasa.gov/Release2b/bonanz_25906_A2114_002_210728/V1.3.B/L/ASAR_L_JOINT_FP_ID25906_LINE02_RUN01_280721_LEVEL1_VH_V1.3.B.jpg\n",
    "wget http://downloaduav.jpl.nasa.gov/Release2b/bonanz_25906_A2114_002_210728/V1.3.B/L/ASAR_L_JOINT_FP_ID25906_LINE02_RUN01_280721_LEVEL1_VH_V1.3.B.tif\n",
    "wget http://downloaduav.jpl.nasa.gov/Release2b/bonanz_25906_A2114_002_210728/V1.3.B/L/ASAR_L_JOINT_FP_ID25906_LINE02_RUN01_280721_LEVEL1_VV_V1.3.B.jpg\n",
    "wget http://downloaduav.jpl.nasa.gov/Release2b/bonanz_25906_A2114_002_210728/V1.3.B/L/ASAR_L_JOINT_FP_ID25906_LINE02_RUN01_280721_LEVEL1_VV_V1.3.B.tif\n",
    "wget http://downloaduav.jpl.nasa.gov/Release2b/bonanz_25906_A2114_002_210728/V1.3.B/L/ASAR_L_S_JOINT_FP_ID25906_LINE02_RUN01_280721_LEVEL1_BAND_META_HDF5_V1.3.B.txt\n",
    "wget http://downloaduav.jpl.nasa.gov/Release2b/bonanz_25906_A2114_002_210728/V1.3.B/L/ASAR_L_S_JOINT_FP_ID25906_LINE02_RUN01_280721_LEVEL1_BAND_META_V1.3.B.txt\n",
    "wget http://downloaduav.jpl.nasa.gov/Release2b/bonanz_25906_A2114_002_210728/V1.3.B/L/ASAR_L_S_JOINT_FP_ID25906_LINE02_RUN01_280721_LEVEL1_GRID_V1.3.B.txt\n",
    "wget http://downloaduav.jpl.nasa.gov/Release2b/bonanz_25906_A2114_002_210728/V1.3.B/L/ASAR_L_S_JOINT_FP_ID25906_LINE02_RUN01_280721_LEVEL1_INC_MAP_V1.3.B.tif\n",
    "wget http://downloaduav.jpl.nasa.gov/Release2b/bonanz_25906_A2114_002_210728/V1.3.B/L/ASAR_L_S_JOINT_FP_ID25906_LINE02_RUN01_280721_LEVEL1_PRODUCT_HDF5_V1.3.B.xml\n",
    "wget http://downloaduav.jpl.nasa.gov/Release2b/bonanz_25906_A2114_002_210728/V1.3.B/L/ASAR_L_S_JOINT_FP_ID25906_LINE02_RUN01_280721_LEVEL1_PRODUCT_V1.3.B.xml\n",
    "wget http://downloaduav.jpl.nasa.gov/Release2b/bonanz_25906_A2114_002_210728/V1.3.B/S/ASAR_L_S_JOINT_FP_ID25906_LINE02_RUN01_280721_LEVEL1_BAND_META_HDF5_V1.3.B.txt\n",
    "wget http://downloaduav.jpl.nasa.gov/Release2b/bonanz_25906_A2114_002_210728/V1.3.B/S/ASAR_L_S_JOINT_FP_ID25906_LINE02_RUN01_280721_LEVEL1_BAND_META_V1.3.B.txt\n",
    "wget http://downloaduav.jpl.nasa.gov/Release2b/bonanz_25906_A2114_002_210728/V1.3.B/S/ASAR_L_S_JOINT_FP_ID25906_LINE02_RUN01_280721_LEVEL1_GRID_V1.3.B.txt\n",
    "wget http://downloaduav.jpl.nasa.gov/Release2b/bonanz_25906_A2114_002_210728/V1.3.B/S/ASAR_L_S_JOINT_FP_ID25906_LINE02_RUN01_280721_LEVEL1_INC_MAP_V1.3.B.tif\n",
    "wget http://downloaduav.jpl.nasa.gov/Release2b/bonanz_25906_A2114_002_210728/V1.3.B/S/ASAR_L_S_JOINT_FP_ID25906_LINE02_RUN01_280721_LEVEL1_PRODUCT_HDF5_V1.3.B.xml\n",
    "wget http://downloaduav.jpl.nasa.gov/Release2b/bonanz_25906_A2114_002_210728/V1.3.B/S/ASAR_L_S_JOINT_FP_ID25906_LINE02_RUN01_280721_LEVEL1_PRODUCT_V1.3.B.xml\n",
    "wget http://downloaduav.jpl.nasa.gov/Release2b/bonanz_25906_A2114_002_210728/V1.3.B/S/ASAR_S_JOINT_FP_ID25906_LINE02_RUN01_280721_LEVEL1_HH_V1.3.B.jpg\n",
    "wget http://downloaduav.jpl.nasa.gov/Release2b/bonanz_25906_A2114_002_210728/V1.3.B/S/ASAR_S_JOINT_FP_ID25906_LINE02_RUN01_280721_LEVEL1_HH_V1.3.B.tif\n",
    "wget http://downloaduav.jpl.nasa.gov/Release2b/bonanz_25906_A2114_002_210728/V1.3.B/S/ASAR_S_JOINT_FP_ID25906_LINE02_RUN01_280721_LEVEL1_HV_V1.3.B.jpg\n",
    "wget http://downloaduav.jpl.nasa.gov/Release2b/bonanz_25906_A2114_002_210728/V1.3.B/S/ASAR_S_JOINT_FP_ID25906_LINE02_RUN01_280721_LEVEL1_HV_V1.3.B.tif\n",
    "wget http://downloaduav.jpl.nasa.gov/Release2b/bonanz_25906_A2114_002_210728/V1.3.B/S/ASAR_S_JOINT_FP_ID25906_LINE02_RUN01_280721_LEVEL1_VH_V1.3.B.jpg\n",
    "wget http://downloaduav.jpl.nasa.gov/Release2b/bonanz_25906_A2114_002_210728/V1.3.B/S/ASAR_S_JOINT_FP_ID25906_LINE02_RUN01_280721_LEVEL1_VH_V1.3.B.tif\n",
    "wget http://downloaduav.jpl.nasa.gov/Release2b/bonanz_25906_A2114_002_210728/V1.3.B/S/ASAR_S_JOINT_FP_ID25906_LINE02_RUN01_280721_LEVEL1_VV_V1.3.B.jpg\n",
    "wget http://downloaduav.jpl.nasa.gov/Release2b/bonanz_25906_A2114_002_210728/V1.3.B/S/ASAR_S_JOINT_FP_ID25906_LINE02_RUN01_280721_LEVEL1_VV_V1.3.B.tif"
   ]
  },
  {
   "cell_type": "markdown",
   "id": "c75c8a14-43ef-4197-ba09-1ed6227341a3",
   "metadata": {},
   "source": [
    "## Get file listing"
   ]
  },
  {
   "cell_type": "code",
   "execution_count": 2,
   "id": "ff17ad59-8ded-4252-add1-da6f9ce7078b",
   "metadata": {},
   "outputs": [
    {
     "data": {
      "text/plain": [
       "[PosixPath('/home/jovyan/data/ASAR_L_JOINT_FP_ID25906_LINE02_RUN01_280721_LEVEL1_HH_V1.3.B.tif'),\n",
       " PosixPath('/home/jovyan/data/ASAR_L_JOINT_FP_ID25906_LINE02_RUN01_280721_LEVEL1_HV_V1.3.B.tif'),\n",
       " PosixPath('/home/jovyan/data/ASAR_L_JOINT_FP_ID25906_LINE02_RUN01_280721_LEVEL1_VH_V1.3.B.tif'),\n",
       " PosixPath('/home/jovyan/data/ASAR_L_JOINT_FP_ID25906_LINE02_RUN01_280721_LEVEL1_VV_V1.3.B.tif'),\n",
       " PosixPath('/home/jovyan/data/ASAR_L_S_JOINT_FP_ID25906_LINE02_RUN01_280721_LEVEL1_INC_MAP_V1.3.B.tif'),\n",
       " PosixPath('/home/jovyan/data/ASAR_S_JOINT_FP_ID25906_LINE02_RUN01_280721_LEVEL1_HH_V1.3.B.tif'),\n",
       " PosixPath('/home/jovyan/data/ASAR_S_JOINT_FP_ID25906_LINE02_RUN01_280721_LEVEL1_HV_V1.3.B.tif'),\n",
       " PosixPath('/home/jovyan/data/ASAR_S_JOINT_FP_ID25906_LINE02_RUN01_280721_LEVEL1_VH_V1.3.B.tif'),\n",
       " PosixPath('/home/jovyan/data/ASAR_S_JOINT_FP_ID25906_LINE02_RUN01_280721_LEVEL1_VV_V1.3.B.tif'),\n",
       " PosixPath('/home/jovyan/data/ASAR_L_JOINT_FP_ID25906_LINE03_RUN01_121219_LEVEL1_HH_V1.3.tif'),\n",
       " PosixPath('/home/jovyan/data/ASAR_L_JOINT_FP_ID25906_LINE03_RUN01_121219_LEVEL1_HV_V1.3.tif')]"
      ]
     },
     "execution_count": 2,
     "metadata": {},
     "output_type": "execute_result"
    }
   ],
   "source": [
    "files_rslc = list(pathlib.Path('/home/jovyan/data/').glob('ASAR_*LEVEL1*.tif'))\n",
    "files_rslc"
   ]
  },
  {
   "cell_type": "code",
   "execution_count": 3,
   "id": "4905344a-bcb2-4308-a741-14df39e9bd88",
   "metadata": {},
   "outputs": [
    {
     "ename": "NameError",
     "evalue": "name 'collection_rslc' is not defined",
     "output_type": "error",
     "traceback": [
      "\u001b[0;31m---------------------------------------------------------------------------\u001b[0m",
      "\u001b[0;31mNameError\u001b[0m                                 Traceback (most recent call last)",
      "Input \u001b[0;32mIn [3]\u001b[0m, in \u001b[0;36m<cell line: 1>\u001b[0;34m()\u001b[0m\n\u001b[0;32m----> 1\u001b[0m \u001b[38;5;124m'\u001b[39m\u001b[38;5;124mL\u001b[39m\u001b[38;5;124m'\u001b[39m \u001b[38;5;129;01min\u001b[39;00m \u001b[43mcollection_rslc\u001b[49m[\u001b[38;5;241m0\u001b[39m][\u001b[38;5;124m'\u001b[39m\u001b[38;5;124mband\u001b[39m\u001b[38;5;124m'\u001b[39m]\n",
      "\u001b[0;31mNameError\u001b[0m: name 'collection_rslc' is not defined"
     ]
    }
   ],
   "source": [
    "'L' in collection_rslc[0]['band']"
   ]
  },
  {
   "cell_type": "markdown",
   "id": "a4f423f7-deb1-4a8f-a82b-4148067ce0f6",
   "metadata": {},
   "source": [
    "## Organize Data Collection"
   ]
  },
  {
   "cell_type": "code",
   "execution_count": 4,
   "id": "a2e6a9e4-75f3-44d8-a711-2c4a52b270b1",
   "metadata": {},
   "outputs": [],
   "source": [
    "files_rslc[0]\n",
    "def get_rows_cols(file_path):\n",
    "    dat = rio.open(file_path, 'r')\n",
    "    nrows = int(dat.height)\n",
    "    ncols = int(dat.width)\n",
    "    dat.close()\n",
    "    return nrows, ncols\n",
    "nrows, ncols = get_rows_cols(files_rslc[0])"
   ]
  },
  {
   "cell_type": "code",
   "execution_count": 5,
   "id": "3077c483-bb55-494d-a181-9ac6bf75f555",
   "metadata": {},
   "outputs": [
    {
     "data": {
      "text/plain": [
       "{'band': ['L'],\n",
       " 'id': 'ID25906',\n",
       " 'line': 'LINE02',\n",
       " 'run': 'RUN01',\n",
       " 'date': datetime.datetime(2021, 7, 28, 0, 0),\n",
       " 'level': 'LEVEL1',\n",
       " 'type': 'HH',\n",
       " 'version': 'V1.3.B',\n",
       " 'path': PosixPath('/home/jovyan/data/ASAR_L_JOINT_FP_ID25906_LINE02_RUN01_280721_LEVEL1_HH_V1.3.B.tif'),\n",
       " 'nrows': 68928,\n",
       " 'ncols': 5107,\n",
       " 'polar_case': 'bistatic',\n",
       " 'polar_type': 'full'}"
      ]
     },
     "execution_count": 5,
     "metadata": {},
     "output_type": "execute_result"
    }
   ],
   "source": [
    "_FNAME = f'{1}_{1}'\n",
    "def filename_parse(fname_):\n",
    "    # return metadata dictionary\n",
    "    file_meta = {}\n",
    "    fname = fname_.name\n",
    "    assert fname.startswith('ASAR_')\n",
    "    fname = fname.replace('ASAR_', '')\n",
    "    bands_str, _, fname = fname.partition('_JOINT_')\n",
    "    #print(bands_str.split('_'))  # frequency band\n",
    "    file_meta['band'] = bands_str.split('_')\n",
    "    file_parts = fname.split('_')\n",
    "    #print(file_parts) \n",
    "    file_meta['id'] = file_parts[1]\n",
    "    file_meta['line'] = file_parts[2]\n",
    "    file_meta['run'] = file_parts[3]\n",
    "    file_meta['date'] = datetime.datetime.strptime(file_parts[4], '%d%m%y')\n",
    "    file_meta['level'] = file_parts[5]\n",
    "    file_meta['type'] = file_parts[6]\n",
    "    file_meta['version'] = file_parts[7].replace('.tif', '')\n",
    "    file_meta['path'] = fname_\n",
    "    nrows, ncols = get_rows_cols(fname_)\n",
    "    file_meta['nrows'] = nrows\n",
    "    file_meta['ncols'] = ncols\n",
    "    file_meta['polar_case'] = 'bistatic'\n",
    "    file_meta['polar_type'] = 'full'\n",
    "    return file_meta\n",
    "\n",
    "filename_parse(files_rslc[0])"
   ]
  },
  {
   "cell_type": "code",
   "execution_count": 6,
   "id": "b8bb88f6-7615-4d39-82b5-fcd67a636eb4",
   "metadata": {},
   "outputs": [],
   "source": [
    "collection_rslc = [filename_parse(f) for f in files_rslc]"
   ]
  },
  {
   "cell_type": "code",
   "execution_count": 7,
   "id": "8aa453f1-f29e-45b6-8396-8719a5652045",
   "metadata": {},
   "outputs": [
    {
     "data": {
      "text/plain": [
       "{'band': ['L'],\n",
       " 'id': 'ID25906',\n",
       " 'line': 'LINE02',\n",
       " 'run': 'RUN01',\n",
       " 'date': datetime.datetime(2021, 7, 28, 0, 0),\n",
       " 'level': 'LEVEL1',\n",
       " 'type': 'VV',\n",
       " 'version': 'V1.3.B',\n",
       " 'path': PosixPath('/home/jovyan/data/ASAR_L_JOINT_FP_ID25906_LINE02_RUN01_280721_LEVEL1_VV_V1.3.B.tif'),\n",
       " 'nrows': 68928,\n",
       " 'ncols': 5107,\n",
       " 'polar_case': 'bistatic',\n",
       " 'polar_type': 'full'}"
      ]
     },
     "execution_count": 7,
     "metadata": {},
     "output_type": "execute_result"
    }
   ],
   "source": [
    "## not using this \n",
    "def get_band_type(band, type_, coll=collection_rslc):\n",
    "    # quick way to organize data\n",
    "    for data in coll:\n",
    "        if band in data['band']:\n",
    "            if type_ == data['type']:\n",
    "                return data\n",
    "rslc_data = get_band_type('L', 'VV')\n",
    "rslc_data"
   ]
  },
  {
   "cell_type": "code",
   "execution_count": 8,
   "id": "131a3dbc-ffc9-475f-a2a6-7350e56b15b9",
   "metadata": {},
   "outputs": [
    {
     "data": {
      "text/plain": [
       "'ASAR_L_RSLC_07282021_VV_I.bin'"
      ]
     },
     "execution_count": 8,
     "metadata": {},
     "output_type": "execute_result"
    }
   ],
   "source": [
    "def get_outfilename(data, variable, file_type='bin'):\n",
    "    return f\"ASAR_{'_'.join(data['band'])}_RSLC_{data['date'].strftime('%m%d%Y')}_{data['type']}_{variable}.{file_type}\"\n",
    "get_outfilename(rslc_data, 'I')"
   ]
  },
  {
   "cell_type": "markdown",
   "id": "ecfd2595-d75d-4fc7-8a5d-870ecde488e3",
   "metadata": {},
   "source": [
    "## Multilook using GDAL - 10 m resolution"
   ]
  },
  {
   "cell_type": "code",
   "execution_count": 9,
   "id": "81f8c18d-30a1-4cb0-bff9-b1adbe727b6d",
   "metadata": {},
   "outputs": [],
   "source": [
    "# make output path'\n",
    "out_path = pathlib.Path('/home/jovyan/data/polsar')\n",
    "out_path.mkdir(exist_ok=True, parents=True)"
   ]
  },
  {
   "cell_type": "code",
   "execution_count": null,
   "id": "a7e81bb0-1d19-41fd-8064-8bc8337c1823",
   "metadata": {},
   "outputs": [],
   "source": []
  },
  {
   "cell_type": "code",
   "execution_count": 10,
   "id": "6b860a13-6f33-49cd-9dfc-a7255603d586",
   "metadata": {},
   "outputs": [
    {
     "data": {
      "text/plain": [
       "'ASAR_RSLC_07282021_ID25906_LINE02_RUN01'"
      ]
     },
     "execution_count": 10,
     "metadata": {},
     "output_type": "execute_result"
    }
   ],
   "source": [
    "def get_collectionname(data):\n",
    "    return f\"ASAR_RSLC_{data['date'].strftime('%m%d%Y')}_{data['id']}_{data['line']}_{data['run']}\"\n",
    "get_collectionname(rslc_data)"
   ]
  },
  {
   "cell_type": "code",
   "execution_count": 52,
   "id": "69071b1a-27c8-4ae5-a2fc-3a242350e955",
   "metadata": {},
   "outputs": [
    {
     "name": "stdout",
     "output_type": "stream",
     "text": [
      "Help on function Warp in module osgeo.gdal:\n",
      "\n",
      "Warp(destNameOrDestDS, srcDSOrSrcDSTab, **kwargs)\n",
      "    Warp one or several datasets.\n",
      "    Arguments are :\n",
      "      destNameOrDestDS --- Output dataset name or object\n",
      "      srcDSOrSrcDSTab --- an array of Dataset objects or filenames, or a Dataset object or a filename\n",
      "    Keyword arguments are :\n",
      "      options --- return of gdal.WarpOptions(), string or array of strings\n",
      "      other keywords arguments of gdal.WarpOptions()\n",
      "    If options is provided as a gdal.WarpOptions() object, other keywords are ignored.\n",
      "\n"
     ]
    }
   ],
   "source": [
    "help(gdal.Warp)\n"
   ]
  },
  {
   "cell_type": "code",
   "execution_count": 47,
   "id": "0ed55e1e-14c0-4ead-aec5-8457a1f69269",
   "metadata": {
    "tags": []
   },
   "outputs": [
    {
     "name": "stdout",
     "output_type": "stream",
     "text": [
      "Help on function WarpOptions in module osgeo.gdal:\n",
      "\n",
      "WarpOptions(options=None, format=None, outputBounds=None, outputBoundsSRS=None, xRes=None, yRes=None, targetAlignedPixels=False, width=0, height=0, srcSRS=None, dstSRS=None, coordinateOperation=None, srcAlpha=False, dstAlpha=False, warpOptions=None, errorThreshold=None, warpMemoryLimit=None, creationOptions=None, outputType=0, workingType=0, resampleAlg=None, srcNodata=None, dstNodata=None, multithread=False, tps=False, rpc=False, geoloc=False, polynomialOrder=None, transformerOptions=None, cutlineDSName=None, cutlineLayer=None, cutlineWhere=None, cutlineSQL=None, cutlineBlend=None, cropToCutline=False, copyMetadata=True, metadataConflictValue=None, setColorInterpretation=False, overviewLevel='AUTO', callback=None, callback_data=None)\n",
      "    Create a WarpOptions() object that can be passed to gdal.Warp()\n",
      "    Keyword arguments are :\n",
      "      options --- can be be an array of strings, a string or let empty and filled from other keywords.\n",
      "      format --- output format (\"GTiff\", etc...)\n",
      "      outputBounds --- output bounds as (minX, minY, maxX, maxY) in target SRS\n",
      "      outputBoundsSRS --- SRS in which output bounds are expressed, in the case they are not expressed in dstSRS\n",
      "      xRes, yRes --- output resolution in target SRS\n",
      "      targetAlignedPixels --- whether to force output bounds to be multiple of output resolution\n",
      "      width --- width of the output raster in pixel\n",
      "      height --- height of the output raster in pixel\n",
      "      srcSRS --- source SRS\n",
      "      dstSRS --- output SRS\n",
      "      coordinateOperation -- coordinate operation as a PROJ string or WKT string\n",
      "      srcAlpha --- whether to force the last band of the input dataset to be considered as an alpha band\n",
      "      dstAlpha --- whether to force the creation of an output alpha band\n",
      "      outputType --- output type (gdalconst.GDT_Byte, etc...)\n",
      "      workingType --- working type (gdalconst.GDT_Byte, etc...)\n",
      "      warpOptions --- list of warping options\n",
      "      errorThreshold --- error threshold for approximation transformer (in pixels)\n",
      "      warpMemoryLimit --- size of working buffer in MB\n",
      "      resampleAlg --- resampling mode\n",
      "      creationOptions --- list of creation options\n",
      "      srcNodata --- source nodata value(s)\n",
      "      dstNodata --- output nodata value(s)\n",
      "      multithread --- whether to multithread computation and I/O operations\n",
      "      tps --- whether to use Thin Plate Spline GCP transformer\n",
      "      rpc --- whether to use RPC transformer\n",
      "      geoloc --- whether to use GeoLocation array transformer\n",
      "      polynomialOrder --- order of polynomial GCP interpolation\n",
      "      transformerOptions --- list of transformer options\n",
      "      cutlineDSName --- cutline dataset name\n",
      "      cutlineLayer --- cutline layer name\n",
      "      cutlineWhere --- cutline WHERE clause\n",
      "      cutlineSQL --- cutline SQL statement\n",
      "      cutlineBlend --- cutline blend distance in pixels\n",
      "      cropToCutline --- whether to use cutline extent for output bounds\n",
      "      copyMetadata --- whether to copy source metadata\n",
      "      metadataConflictValue --- metadata data conflict value\n",
      "      setColorInterpretation --- whether to force color interpretation of input bands to output bands\n",
      "      overviewLevel --- To specify which overview level of source files must be used\n",
      "      callback --- callback method\n",
      "      callback_data --- user data for callback\n",
      "\n"
     ]
    }
   ],
   "source": [
    "help(gdal.WarpOptions)"
   ]
  },
  {
   "cell_type": "code",
   "execution_count": 14,
   "id": "04f0948f-ee64-49f7-84ce-25f27d918519",
   "metadata": {},
   "outputs": [
    {
     "name": "stdout",
     "output_type": "stream",
     "text": [
      "Warp: /home/jovyan/data/ASAR_L_JOINT_FP_ID25906_LINE02_RUN01_280721_LEVEL1_VV_V1.3.B.tifTrue -- > /home/jovyan/data/polsar/ASAR_RSLC_07282021_ID25906_LINE02_RUN01/L/ASAR_L_RSLC_07282021_VV_ml5x5.tif\n",
      "Done: /home/jovyan/data/ASAR_L_JOINT_FP_ID25906_LINE02_RUN01_280721_LEVEL1_VV_V1.3.B.tif -- > /home/jovyan/data/polsar/ASAR_RSLC_07282021_ID25906_LINE02_RUN01/L/ASAR_L_RSLC_07282021_VV_ml5x5.tif\n"
     ]
    }
   ],
   "source": [
    "def write_ml(data, xlooks=5, ylooks=5):\n",
    "    src_path = data['path']\n",
    "    collection_name = get_collectionname(data)\n",
    "    out_path_ = out_path / collection_name / data['band'][0]\n",
    "    out_path_.parent.mkdir(exist_ok=True, parents=True)\n",
    "    dst_path = out_path_ / get_outfilename(data, f'ml{xlooks}x{ylooks}', 'tif')\n",
    "    print(f'Warp: {src_path.as_posix()}{src_path.exists()} -- > {dst_path.as_posix()}')\n",
    "    gdal_opts = gdal.WarpOptions(format='GTiff',srcNodata=0, yRes=ylooks*2, xRes=xlooks*2, dstSRS='EPSG:32606')\n",
    "    gdal.Warp(dst_path.as_posix(), src_path.as_posix(), options=gdal_opts)\n",
    "    print(f'Done: {src_path.as_posix()} -- > {dst_path.as_posix()}')\n",
    "    data['data_ml'] = dst_path\n",
    "write_ml(rslc_data)"
   ]
  },
  {
   "cell_type": "markdown",
   "id": "f6d40f73-5fa2-45e4-9f3a-7f0c79dc9706",
   "metadata": {},
   "source": [
    "# Setup output folders and filenames"
   ]
  },
  {
   "cell_type": "code",
   "execution_count": 15,
   "id": "d987faea-463b-4ed0-b2ea-16b457728492",
   "metadata": {},
   "outputs": [
    {
     "name": "stdout",
     "output_type": "stream",
     "text": [
      "Warp: /home/jovyan/data/ASAR_L_JOINT_FP_ID25906_LINE02_RUN01_280721_LEVEL1_HH_V1.3.B.tifTrue -- > /home/jovyan/data/polsar/ASAR_RSLC_07282021_ID25906_LINE02_RUN01/L/ASAR_L_RSLC_07282021_HH_ml5x5.tif\n",
      "Done: /home/jovyan/data/ASAR_L_JOINT_FP_ID25906_LINE02_RUN01_280721_LEVEL1_HH_V1.3.B.tif -- > /home/jovyan/data/polsar/ASAR_RSLC_07282021_ID25906_LINE02_RUN01/L/ASAR_L_RSLC_07282021_HH_ml5x5.tif\n",
      "Warp: /home/jovyan/data/ASAR_L_JOINT_FP_ID25906_LINE02_RUN01_280721_LEVEL1_HV_V1.3.B.tifTrue -- > /home/jovyan/data/polsar/ASAR_RSLC_07282021_ID25906_LINE02_RUN01/L/ASAR_L_RSLC_07282021_HV_ml5x5.tif\n",
      "Done: /home/jovyan/data/ASAR_L_JOINT_FP_ID25906_LINE02_RUN01_280721_LEVEL1_HV_V1.3.B.tif -- > /home/jovyan/data/polsar/ASAR_RSLC_07282021_ID25906_LINE02_RUN01/L/ASAR_L_RSLC_07282021_HV_ml5x5.tif\n",
      "Warp: /home/jovyan/data/ASAR_L_JOINT_FP_ID25906_LINE02_RUN01_280721_LEVEL1_VH_V1.3.B.tifTrue -- > /home/jovyan/data/polsar/ASAR_RSLC_07282021_ID25906_LINE02_RUN01/L/ASAR_L_RSLC_07282021_VH_ml5x5.tif\n",
      "Done: /home/jovyan/data/ASAR_L_JOINT_FP_ID25906_LINE02_RUN01_280721_LEVEL1_VH_V1.3.B.tif -- > /home/jovyan/data/polsar/ASAR_RSLC_07282021_ID25906_LINE02_RUN01/L/ASAR_L_RSLC_07282021_VH_ml5x5.tif\n",
      "Warp: /home/jovyan/data/ASAR_L_JOINT_FP_ID25906_LINE02_RUN01_280721_LEVEL1_VV_V1.3.B.tifTrue -- > /home/jovyan/data/polsar/ASAR_RSLC_07282021_ID25906_LINE02_RUN01/L/ASAR_L_RSLC_07282021_VV_ml5x5.tif\n",
      "Done: /home/jovyan/data/ASAR_L_JOINT_FP_ID25906_LINE02_RUN01_280721_LEVEL1_VV_V1.3.B.tif -- > /home/jovyan/data/polsar/ASAR_RSLC_07282021_ID25906_LINE02_RUN01/L/ASAR_L_RSLC_07282021_VV_ml5x5.tif\n",
      "Warp: /home/jovyan/data/ASAR_S_JOINT_FP_ID25906_LINE02_RUN01_280721_LEVEL1_HH_V1.3.B.tifTrue -- > /home/jovyan/data/polsar/ASAR_RSLC_07282021_ID25906_LINE02_RUN01/S/ASAR_S_RSLC_07282021_HH_ml5x5.tif\n",
      "Done: /home/jovyan/data/ASAR_S_JOINT_FP_ID25906_LINE02_RUN01_280721_LEVEL1_HH_V1.3.B.tif -- > /home/jovyan/data/polsar/ASAR_RSLC_07282021_ID25906_LINE02_RUN01/S/ASAR_S_RSLC_07282021_HH_ml5x5.tif\n",
      "Warp: /home/jovyan/data/ASAR_S_JOINT_FP_ID25906_LINE02_RUN01_280721_LEVEL1_HV_V1.3.B.tifTrue -- > /home/jovyan/data/polsar/ASAR_RSLC_07282021_ID25906_LINE02_RUN01/S/ASAR_S_RSLC_07282021_HV_ml5x5.tif\n",
      "Done: /home/jovyan/data/ASAR_S_JOINT_FP_ID25906_LINE02_RUN01_280721_LEVEL1_HV_V1.3.B.tif -- > /home/jovyan/data/polsar/ASAR_RSLC_07282021_ID25906_LINE02_RUN01/S/ASAR_S_RSLC_07282021_HV_ml5x5.tif\n",
      "Warp: /home/jovyan/data/ASAR_S_JOINT_FP_ID25906_LINE02_RUN01_280721_LEVEL1_VH_V1.3.B.tifTrue -- > /home/jovyan/data/polsar/ASAR_RSLC_07282021_ID25906_LINE02_RUN01/S/ASAR_S_RSLC_07282021_VH_ml5x5.tif\n",
      "Done: /home/jovyan/data/ASAR_S_JOINT_FP_ID25906_LINE02_RUN01_280721_LEVEL1_VH_V1.3.B.tif -- > /home/jovyan/data/polsar/ASAR_RSLC_07282021_ID25906_LINE02_RUN01/S/ASAR_S_RSLC_07282021_VH_ml5x5.tif\n",
      "Warp: /home/jovyan/data/ASAR_S_JOINT_FP_ID25906_LINE02_RUN01_280721_LEVEL1_VV_V1.3.B.tifTrue -- > /home/jovyan/data/polsar/ASAR_RSLC_07282021_ID25906_LINE02_RUN01/S/ASAR_S_RSLC_07282021_VV_ml5x5.tif\n",
      "Done: /home/jovyan/data/ASAR_S_JOINT_FP_ID25906_LINE02_RUN01_280721_LEVEL1_VV_V1.3.B.tif -- > /home/jovyan/data/polsar/ASAR_RSLC_07282021_ID25906_LINE02_RUN01/S/ASAR_S_RSLC_07282021_VV_ml5x5.tif\n",
      "Warp: /home/jovyan/data/ASAR_L_JOINT_FP_ID25906_LINE03_RUN01_121219_LEVEL1_HH_V1.3.tifTrue -- > /home/jovyan/data/polsar/ASAR_RSLC_12122019_ID25906_LINE03_RUN01/L/ASAR_L_RSLC_12122019_HH_ml5x5.tif\n",
      "Done: /home/jovyan/data/ASAR_L_JOINT_FP_ID25906_LINE03_RUN01_121219_LEVEL1_HH_V1.3.tif -- > /home/jovyan/data/polsar/ASAR_RSLC_12122019_ID25906_LINE03_RUN01/L/ASAR_L_RSLC_12122019_HH_ml5x5.tif\n",
      "Warp: /home/jovyan/data/ASAR_L_JOINT_FP_ID25906_LINE03_RUN01_121219_LEVEL1_HV_V1.3.tifTrue -- > /home/jovyan/data/polsar/ASAR_RSLC_12122019_ID25906_LINE03_RUN01/L/ASAR_L_RSLC_12122019_HV_ml5x5.tif\n",
      "Done: /home/jovyan/data/ASAR_L_JOINT_FP_ID25906_LINE03_RUN01_121219_LEVEL1_HV_V1.3.tif -- > /home/jovyan/data/polsar/ASAR_RSLC_12122019_ID25906_LINE03_RUN01/L/ASAR_L_RSLC_12122019_HV_ml5x5.tif\n"
     ]
    },
    {
     "data": {
      "text/plain": [
       "[None, None, None, None, None, None, None, None, None, None]"
      ]
     },
     "execution_count": 15,
     "metadata": {},
     "output_type": "execute_result"
    }
   ],
   "source": [
    "[write_ml(data) for data in collection_rslc if data['type'] != 'INC']"
   ]
  },
  {
   "cell_type": "code",
   "execution_count": 20,
   "id": "aa185c04-cefb-43e6-8ca7-6ce921c17925",
   "metadata": {},
   "outputs": [
    {
     "name": "stdout",
     "output_type": "stream",
     "text": [
      "Reading: ASAR_L_RSLC_07282021_VV_I.bin\n",
      "Writing Binary: /home/jovyan/data/polsar/ASAR_L_RSLC_07282021_VV_I.bin\n",
      "Reading: ASAR_L_RSLC_07282021_VV_Q.bin\n",
      "Writing Binary: /home/jovyan/data/polsar/ASAR_L_RSLC_07282021_VV_Q.bin\n"
     ]
    }
   ],
   "source": [
    "def write_binary(data, path='path'):\n",
    "    for variable, order in zip(['I', 'Q'], range(1, 3)):\n",
    "        outfile_name = get_outfilename(data, variable)\n",
    "        collection_name = get_collectionname(data)\n",
    "        try:\n",
    "            print(f'Reading: {outfile_name}')\n",
    "            file = rio.open(data[path].as_posix(), 'r')\n",
    "            A = file.read(order)\n",
    "        except:\n",
    "            print(f'ERROR: {outfile_name}')\n",
    "        finally:\n",
    "            file.close()\n",
    "        out_path_ = out_path / collection_name / data['band'][0]\n",
    "        out_path_.mkdir(exist_ok=True, parents=True)\n",
    "        print(f'Writing Binary: {out_path / outfile_name}')\n",
    "\n",
    "        A.tofile(out_path / outfile_name)\n",
    "write_binary(rslc_data, path='data_ml')"
   ]
  },
  {
   "cell_type": "code",
   "execution_count": 19,
   "id": "7c5cf2e3-3834-4efe-b7e4-a93f6a8bab57",
   "metadata": {},
   "outputs": [
    {
     "name": "stdout",
     "output_type": "stream",
     "text": [
      "Reading: ASAR_L_RSLC_07282021_HH_I.bin\n",
      "Writing Binary: ASAR_L_RSLC_07282021_HH_I.bin\n",
      "Reading: ASAR_L_RSLC_07282021_HH_Q.bin\n",
      "Writing Binary: ASAR_L_RSLC_07282021_HH_Q.bin\n",
      "Reading: ASAR_L_RSLC_07282021_HV_I.bin\n",
      "Writing Binary: ASAR_L_RSLC_07282021_HV_I.bin\n",
      "Reading: ASAR_L_RSLC_07282021_HV_Q.bin\n",
      "Writing Binary: ASAR_L_RSLC_07282021_HV_Q.bin\n",
      "Reading: ASAR_L_RSLC_07282021_VH_I.bin\n",
      "Writing Binary: ASAR_L_RSLC_07282021_VH_I.bin\n",
      "Reading: ASAR_L_RSLC_07282021_VH_Q.bin\n",
      "Writing Binary: ASAR_L_RSLC_07282021_VH_Q.bin\n",
      "Reading: ASAR_L_RSLC_07282021_VV_I.bin\n",
      "Writing Binary: ASAR_L_RSLC_07282021_VV_I.bin\n",
      "Reading: ASAR_L_RSLC_07282021_VV_Q.bin\n",
      "Writing Binary: ASAR_L_RSLC_07282021_VV_Q.bin\n",
      "Reading: ASAR_S_RSLC_07282021_HH_I.bin\n",
      "Writing Binary: ASAR_S_RSLC_07282021_HH_I.bin\n",
      "Reading: ASAR_S_RSLC_07282021_HH_Q.bin\n",
      "Writing Binary: ASAR_S_RSLC_07282021_HH_Q.bin\n",
      "Reading: ASAR_S_RSLC_07282021_HV_I.bin\n",
      "Writing Binary: ASAR_S_RSLC_07282021_HV_I.bin\n",
      "Reading: ASAR_S_RSLC_07282021_HV_Q.bin\n",
      "Writing Binary: ASAR_S_RSLC_07282021_HV_Q.bin\n",
      "Reading: ASAR_S_RSLC_07282021_VH_I.bin\n",
      "Writing Binary: ASAR_S_RSLC_07282021_VH_I.bin\n",
      "Reading: ASAR_S_RSLC_07282021_VH_Q.bin\n",
      "Writing Binary: ASAR_S_RSLC_07282021_VH_Q.bin\n",
      "Reading: ASAR_S_RSLC_07282021_VV_I.bin\n",
      "Writing Binary: ASAR_S_RSLC_07282021_VV_I.bin\n",
      "Reading: ASAR_S_RSLC_07282021_VV_Q.bin\n",
      "Writing Binary: ASAR_S_RSLC_07282021_VV_Q.bin\n",
      "Reading: ASAR_L_RSLC_12122019_HH_I.bin\n",
      "Writing Binary: ASAR_L_RSLC_12122019_HH_I.bin\n",
      "Reading: ASAR_L_RSLC_12122019_HH_Q.bin\n",
      "Writing Binary: ASAR_L_RSLC_12122019_HH_Q.bin\n",
      "Reading: ASAR_L_RSLC_12122019_HV_I.bin\n",
      "Writing Binary: ASAR_L_RSLC_12122019_HV_I.bin\n",
      "Reading: ASAR_L_RSLC_12122019_HV_Q.bin\n",
      "Writing Binary: ASAR_L_RSLC_12122019_HV_Q.bin\n"
     ]
    },
    {
     "data": {
      "text/plain": [
       "[None, None, None, None, None, None, None, None, None, None]"
      ]
     },
     "execution_count": 19,
     "metadata": {},
     "output_type": "execute_result"
    }
   ],
   "source": [
    "# write all of the dat to polsar directory\n",
    "[write_binary(data, path='data_ml') for data in collection_rslc if data['type'] != 'INC']"
   ]
  },
  {
   "cell_type": "code",
   "execution_count": null,
   "id": "8e3a63be-6460-4e07-b07f-a3db10244db0",
   "metadata": {},
   "outputs": [],
   "source": [
    "# get band "
   ]
  },
  {
   "cell_type": "code",
   "execution_count": 116,
   "id": "b25eb3a2-9ace-4446-8588-2300cf1d0d1f",
   "metadata": {},
   "outputs": [],
   "source": [
    "# Write config files\n",
    "bands_ = list(set([data['band'][0] for data in collection_rslc]))\n",
    "for data in collection_rslc:\n",
    "    collection_name = get_collectionname(data)\n",
    "    out_path = pathlib.Path('./polsar') / collection_name / data['band'][0]\n",
    "    with open(out_path / 'config.txt', 'w') as f_:\n",
    "        f_.write('Nrow\\n')\n",
    "        f_.write(f'{int(data[\"nrows\"])}\\n')\n",
    "        f_.write('---------\\n')\n",
    "\n",
    "        f_.write('Ncol\\n')\n",
    "        f_.write(f'{int(data[\"ncols\"])}\\n')\n",
    "        f_.write('---------\\n')\n",
    "\n",
    "        f_.write('PolarCase\\n')\n",
    "        f_.write(f'{data[\"polar_case\"]}\\n')\n",
    "        f_.write('---------\\n')\n",
    "\n",
    "        f_.write('PolarType\\n')\n",
    "        f_.write(f'{data[\"polar_type\"]}\\n')\n",
    "                    \n"
   ]
  },
  {
   "cell_type": "code",
   "execution_count": 107,
   "id": "db5883ac-f5cc-47bc-8ac0-15c2fb41b7ea",
   "metadata": {},
   "outputs": [
    {
     "name": "stdout",
     "output_type": "stream",
     "text": [
      "\n",
      "\n"
     ]
    }
   ],
   "source": [
    "print('\\n')"
   ]
  },
  {
   "cell_type": "code",
   "execution_count": null,
   "id": "4b2e3bd4-fe86-41a7-b2d7-5bb92cf450df",
   "metadata": {},
   "outputs": [],
   "source": []
  }
 ],
 "metadata": {
  "kernelspec": {
   "display_name": "isce",
   "language": "python",
   "name": "isce"
  },
  "language_info": {
   "codemirror_mode": {
    "name": "ipython",
    "version": 3
   },
   "file_extension": ".py",
   "mimetype": "text/x-python",
   "name": "python",
   "nbconvert_exporter": "python",
   "pygments_lexer": "ipython3",
   "version": "3.10.5"
  }
 },
 "nbformat": 4,
 "nbformat_minor": 5
}
