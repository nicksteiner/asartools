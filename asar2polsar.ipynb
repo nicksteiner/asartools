{
 "cells": [
  {
   "cell_type": "code",
   "execution_count": 22,
   "id": "3b9c969d-5f4d-467f-9c4a-df3315f7a2c6",
   "metadata": {},
   "outputs": [],
   "source": [
    "import os\n",
    "import sys\n",
    "import pathlib\n",
    "import datetime\n",
    "\n",
    "import pandas as pd\n",
    "import numpy as np\n",
    "import rasterio as rio"
   ]
  },
  {
   "cell_type": "markdown",
   "id": "a3d740d8-7c88-43b5-a087-06b5270aa44d",
   "metadata": {},
   "source": [
    "# Working with ASAR RSLC GEOTIFFS (LEVEL1)"
   ]
  },
  {
   "cell_type": "markdown",
   "id": "5d40cda0-d918-4801-9899-dc669dadd077",
   "metadata": {},
   "source": [
    "## Downloads"
   ]
  },
  {
   "cell_type": "code",
   "execution_count": null,
   "id": "dc323cd3-7a81-41ea-8c83-d271052543f4",
   "metadata": {},
   "outputs": [],
   "source": [
    "%%bash\n",
    " wget http://downloaduav.jpl.nasa.gov/Release2b/bonanz_25906_A2114_002_210728/V1.3.B/ASAR_L_S_JOINT_FP_ID25906_LINE02_RUN01_280721_LEVEL1_BAND_META_HDF5_V1.3.B.txt\n",
    "wget http://downloaduav.jpl.nasa.gov/Release2b/bonanz_25906_A2114_002_210728/V1.3.B/ASAR_L_S_JOINT_FP_ID25906_LINE02_RUN01_280721_LEVEL1_BAND_META_V1.3.B.txt\n",
    "wget http://downloaduav.jpl.nasa.gov/Release2b/bonanz_25906_A2114_002_210728/V1.3.B/ASAR_L_S_JOINT_FP_ID25906_LINE02_RUN01_280721_LEVEL1_GRID_V1.3.B.txt\n",
    "wget http://downloaduav.jpl.nasa.gov/Release2b/bonanz_25906_A2114_002_210728/V1.3.B/ASAR_L_S_JOINT_FP_ID25906_LINE02_RUN01_280721_LEVEL1_INC_MAP_V1.3.B.tif\n",
    "wget http://downloaduav.jpl.nasa.gov/Release2b/bonanz_25906_A2114_002_210728/V1.3.B/ASAR_L_S_JOINT_FP_ID25906_LINE02_RUN01_280721_LEVEL1_PRODUCT_HDF5_V1.3.B.xml\n",
    "wget http://downloaduav.jpl.nasa.gov/Release2b/bonanz_25906_A2114_002_210728/V1.3.B/ASAR_L_S_JOINT_FP_ID25906_LINE02_RUN01_280721_LEVEL1_PRODUCT_V1.3.B.xml\n",
    "wget http://downloaduav.jpl.nasa.gov/Release2b/bonanz_25906_A2114_002_210728/V1.3.B/L/ASAR_L_JOINT_FP_ID25906_LINE02_RUN01_280721_LEVEL1_HH_V1.3.B.jpg\n",
    "wget http://downloaduav.jpl.nasa.gov/Release2b/bonanz_25906_A2114_002_210728/V1.3.B/L/ASAR_L_JOINT_FP_ID25906_LINE02_RUN01_280721_LEVEL1_HH_V1.3.B.tif\n",
    "wget http://downloaduav.jpl.nasa.gov/Release2b/bonanz_25906_A2114_002_210728/V1.3.B/L/ASAR_L_JOINT_FP_ID25906_LINE02_RUN01_280721_LEVEL1_HV_V1.3.B.jpg\n",
    "wget http://downloaduav.jpl.nasa.gov/Release2b/bonanz_25906_A2114_002_210728/V1.3.B/L/ASAR_L_JOINT_FP_ID25906_LINE02_RUN01_280721_LEVEL1_HV_V1.3.B.tif\n",
    "wget http://downloaduav.jpl.nasa.gov/Release2b/bonanz_25906_A2114_002_210728/V1.3.B/L/ASAR_L_JOINT_FP_ID25906_LINE02_RUN01_280721_LEVEL1_VH_V1.3.B.jpg\n",
    "wget http://downloaduav.jpl.nasa.gov/Release2b/bonanz_25906_A2114_002_210728/V1.3.B/L/ASAR_L_JOINT_FP_ID25906_LINE02_RUN01_280721_LEVEL1_VH_V1.3.B.tif\n",
    "wget http://downloaduav.jpl.nasa.gov/Release2b/bonanz_25906_A2114_002_210728/V1.3.B/L/ASAR_L_JOINT_FP_ID25906_LINE02_RUN01_280721_LEVEL1_VV_V1.3.B.jpg\n",
    "wget http://downloaduav.jpl.nasa.gov/Release2b/bonanz_25906_A2114_002_210728/V1.3.B/L/ASAR_L_JOINT_FP_ID25906_LINE02_RUN01_280721_LEVEL1_VV_V1.3.B.tif\n",
    "wget http://downloaduav.jpl.nasa.gov/Release2b/bonanz_25906_A2114_002_210728/V1.3.B/L/ASAR_L_S_JOINT_FP_ID25906_LINE02_RUN01_280721_LEVEL1_BAND_META_HDF5_V1.3.B.txt\n",
    "wget http://downloaduav.jpl.nasa.gov/Release2b/bonanz_25906_A2114_002_210728/V1.3.B/L/ASAR_L_S_JOINT_FP_ID25906_LINE02_RUN01_280721_LEVEL1_BAND_META_V1.3.B.txt\n",
    "wget http://downloaduav.jpl.nasa.gov/Release2b/bonanz_25906_A2114_002_210728/V1.3.B/L/ASAR_L_S_JOINT_FP_ID25906_LINE02_RUN01_280721_LEVEL1_GRID_V1.3.B.txt\n",
    "wget http://downloaduav.jpl.nasa.gov/Release2b/bonanz_25906_A2114_002_210728/V1.3.B/L/ASAR_L_S_JOINT_FP_ID25906_LINE02_RUN01_280721_LEVEL1_INC_MAP_V1.3.B.tif\n",
    "wget http://downloaduav.jpl.nasa.gov/Release2b/bonanz_25906_A2114_002_210728/V1.3.B/L/ASAR_L_S_JOINT_FP_ID25906_LINE02_RUN01_280721_LEVEL1_PRODUCT_HDF5_V1.3.B.xml\n",
    "wget http://downloaduav.jpl.nasa.gov/Release2b/bonanz_25906_A2114_002_210728/V1.3.B/L/ASAR_L_S_JOINT_FP_ID25906_LINE02_RUN01_280721_LEVEL1_PRODUCT_V1.3.B.xml\n",
    "wget http://downloaduav.jpl.nasa.gov/Release2b/bonanz_25906_A2114_002_210728/V1.3.B/S/ASAR_L_S_JOINT_FP_ID25906_LINE02_RUN01_280721_LEVEL1_BAND_META_HDF5_V1.3.B.txt\n",
    "wget http://downloaduav.jpl.nasa.gov/Release2b/bonanz_25906_A2114_002_210728/V1.3.B/S/ASAR_L_S_JOINT_FP_ID25906_LINE02_RUN01_280721_LEVEL1_BAND_META_V1.3.B.txt\n",
    "wget http://downloaduav.jpl.nasa.gov/Release2b/bonanz_25906_A2114_002_210728/V1.3.B/S/ASAR_L_S_JOINT_FP_ID25906_LINE02_RUN01_280721_LEVEL1_GRID_V1.3.B.txt\n",
    "wget http://downloaduav.jpl.nasa.gov/Release2b/bonanz_25906_A2114_002_210728/V1.3.B/S/ASAR_L_S_JOINT_FP_ID25906_LINE02_RUN01_280721_LEVEL1_INC_MAP_V1.3.B.tif\n",
    "wget http://downloaduav.jpl.nasa.gov/Release2b/bonanz_25906_A2114_002_210728/V1.3.B/S/ASAR_L_S_JOINT_FP_ID25906_LINE02_RUN01_280721_LEVEL1_PRODUCT_HDF5_V1.3.B.xml\n",
    "wget http://downloaduav.jpl.nasa.gov/Release2b/bonanz_25906_A2114_002_210728/V1.3.B/S/ASAR_L_S_JOINT_FP_ID25906_LINE02_RUN01_280721_LEVEL1_PRODUCT_V1.3.B.xml\n",
    "wget http://downloaduav.jpl.nasa.gov/Release2b/bonanz_25906_A2114_002_210728/V1.3.B/S/ASAR_S_JOINT_FP_ID25906_LINE02_RUN01_280721_LEVEL1_HH_V1.3.B.jpg\n",
    "wget http://downloaduav.jpl.nasa.gov/Release2b/bonanz_25906_A2114_002_210728/V1.3.B/S/ASAR_S_JOINT_FP_ID25906_LINE02_RUN01_280721_LEVEL1_HH_V1.3.B.tif\n",
    "wget http://downloaduav.jpl.nasa.gov/Release2b/bonanz_25906_A2114_002_210728/V1.3.B/S/ASAR_S_JOINT_FP_ID25906_LINE02_RUN01_280721_LEVEL1_HV_V1.3.B.jpg\n",
    "wget http://downloaduav.jpl.nasa.gov/Release2b/bonanz_25906_A2114_002_210728/V1.3.B/S/ASAR_S_JOINT_FP_ID25906_LINE02_RUN01_280721_LEVEL1_HV_V1.3.B.tif\n",
    "wget http://downloaduav.jpl.nasa.gov/Release2b/bonanz_25906_A2114_002_210728/V1.3.B/S/ASAR_S_JOINT_FP_ID25906_LINE02_RUN01_280721_LEVEL1_VH_V1.3.B.jpg\n",
    "wget http://downloaduav.jpl.nasa.gov/Release2b/bonanz_25906_A2114_002_210728/V1.3.B/S/ASAR_S_JOINT_FP_ID25906_LINE02_RUN01_280721_LEVEL1_VH_V1.3.B.tif\n",
    "wget http://downloaduav.jpl.nasa.gov/Release2b/bonanz_25906_A2114_002_210728/V1.3.B/S/ASAR_S_JOINT_FP_ID25906_LINE02_RUN01_280721_LEVEL1_VV_V1.3.B.jpg\n",
    "wget http://downloaduav.jpl.nasa.gov/Release2b/bonanz_25906_A2114_002_210728/V1.3.B/S/ASAR_S_JOINT_FP_ID25906_LINE02_RUN01_280721_LEVEL1_VV_V1.3.B.tif"
   ]
  },
  {
   "cell_type": "markdown",
   "id": "c75c8a14-43ef-4197-ba09-1ed6227341a3",
   "metadata": {},
   "source": [
    "## Get file listing"
   ]
  },
  {
   "cell_type": "code",
   "execution_count": 8,
   "id": "ff17ad59-8ded-4252-add1-da6f9ce7078b",
   "metadata": {},
   "outputs": [
    {
     "data": {
      "text/plain": [
       "[PosixPath('ASAR_L_JOINT_FP_ID25906_LINE02_RUN01_280721_LEVEL1_VH_V1.3.B.tif'),\n",
       " PosixPath('ASAR_S_JOINT_FP_ID25906_LINE02_RUN01_280721_LEVEL1_VH_V1.3.B.tif'),\n",
       " PosixPath('ASAR_L_S_JOINT_FP_ID25906_LINE02_RUN01_280721_LEVEL1_INC_MAP_V1.3.B.tif'),\n",
       " PosixPath('ASAR_L_JOINT_FP_ID25906_LINE02_RUN01_280721_LEVEL1_HV_V1.3.B.tif'),\n",
       " PosixPath('ASAR_S_JOINT_FP_ID25906_LINE02_RUN01_280721_LEVEL1_VV_V1.3.B.tif'),\n",
       " PosixPath('ASAR_L_JOINT_FP_ID25906_LINE02_RUN01_280721_LEVEL1_VV_V1.3.B.tif'),\n",
       " PosixPath('ASAR_S_JOINT_FP_ID25906_LINE02_RUN01_280721_LEVEL1_HV_V1.3.B.tif'),\n",
       " PosixPath('ASAR_L_JOINT_FP_ID25906_LINE02_RUN01_280721_LEVEL1_HH_V1.3.B.tif'),\n",
       " PosixPath('ASAR_S_JOINT_FP_ID25906_LINE02_RUN01_280721_LEVEL1_HH_V1.3.B.tif')]"
      ]
     },
     "execution_count": 8,
     "metadata": {},
     "output_type": "execute_result"
    }
   ],
   "source": [
    "files_rslc = list(pathlib.Path('.').glob('./ASAR_*LEVEL1*.tif'))\n",
    "files_rslc"
   ]
  },
  {
   "cell_type": "code",
   "execution_count": 41,
   "id": "4905344a-bcb2-4308-a741-14df39e9bd88",
   "metadata": {},
   "outputs": [
    {
     "data": {
      "text/plain": [
       "True"
      ]
     },
     "execution_count": 41,
     "metadata": {},
     "output_type": "execute_result"
    }
   ],
   "source": [
    "'L' in collection_rslc[0]['band']"
   ]
  },
  {
   "cell_type": "markdown",
   "id": "a4f423f7-deb1-4a8f-a82b-4148067ce0f6",
   "metadata": {},
   "source": [
    "## Organize Data Collection"
   ]
  },
  {
   "cell_type": "code",
   "execution_count": 94,
   "id": "a2e6a9e4-75f3-44d8-a711-2c4a52b270b1",
   "metadata": {},
   "outputs": [],
   "source": [
    "files_rslc[0]\n",
    "def get_rows_cols(file_path):\n",
    "    dat = rio.open(file_path, 'r')\n",
    "    nrows = int(dat.height)\n",
    "    ncols = int(dat.width)\n",
    "    dat.close()\n",
    "    return nrows, ncols\n",
    "nrows, ncols = get_rows_cols(files_rslc[0])"
   ]
  },
  {
   "cell_type": "code",
   "execution_count": 97,
   "id": "3077c483-bb55-494d-a181-9ac6bf75f555",
   "metadata": {},
   "outputs": [
    {
     "data": {
      "text/plain": [
       "{'band': ['L'],\n",
       " 'id': 'ID25906',\n",
       " 'line': 'LINE02',\n",
       " 'run': 'RUN01',\n",
       " 'date': datetime.datetime(2021, 7, 28, 0, 0),\n",
       " 'level': 'LEVEL1',\n",
       " 'type': 'VH',\n",
       " 'version': 'V1.3.B',\n",
       " 'path': PosixPath('ASAR_L_JOINT_FP_ID25906_LINE02_RUN01_280721_LEVEL1_VH_V1.3.B.tif'),\n",
       " 'nrows': 68928,\n",
       " 'ncols': 5107,\n",
       " 'polar_case': 'bistatic',\n",
       " 'polar_type': 'full'}"
      ]
     },
     "execution_count": 97,
     "metadata": {},
     "output_type": "execute_result"
    }
   ],
   "source": [
    "_FNAME = f'{1}_{1}'\n",
    "def filename_parse(fname_):\n",
    "    # return metadata dictionary\n",
    "    file_meta = {}\n",
    "    fname = fname_.name\n",
    "    assert fname.startswith('ASAR_')\n",
    "    fname = fname.replace('ASAR_', '')\n",
    "    bands_str, _, fname = fname.partition('_JOINT_')\n",
    "    #print(bands_str.split('_'))  # frequency band\n",
    "    file_meta['band'] = bands_str.split('_')\n",
    "    file_parts = fname.split('_')\n",
    "    #print(file_parts) \n",
    "    file_meta['id'] = file_parts[1]\n",
    "    file_meta['line'] = file_parts[2]\n",
    "    file_meta['run'] = file_parts[3]\n",
    "    file_meta['date'] = datetime.datetime.strptime(file_parts[4], '%d%m%y')\n",
    "    file_meta['level'] = file_parts[5]\n",
    "    file_meta['type'] = file_parts[6]\n",
    "    file_meta['version'] = file_parts[7].replace('.tif', '')\n",
    "    file_meta['path'] = fname_\n",
    "    nrows, ncols = get_rows_cols(fname_)\n",
    "    file_meta['nrows'] = nrows\n",
    "    file_meta['ncols'] = ncols\n",
    "    file_meta['polar_case'] = 'bistatic'\n",
    "    file_meta['polar_type'] = 'full'\n",
    "    return file_meta\n",
    "\n",
    "filename_parse(files_rslc[0])"
   ]
  },
  {
   "cell_type": "code",
   "execution_count": 98,
   "id": "b8bb88f6-7615-4d39-82b5-fcd67a636eb4",
   "metadata": {},
   "outputs": [],
   "source": [
    "collection_rslc = [filename_parse(f) for f in files_rslc]"
   ]
  },
  {
   "cell_type": "code",
   "execution_count": 70,
   "id": "8aa453f1-f29e-45b6-8396-8719a5652045",
   "metadata": {},
   "outputs": [
    {
     "data": {
      "text/plain": [
       "{'band': ['L'],\n",
       " 'id': 'ID25906',\n",
       " 'line': 'LINE02',\n",
       " 'run': 'RUN01',\n",
       " 'date': datetime.datetime(2021, 7, 28, 0, 0),\n",
       " 'level': 'LEVEL1',\n",
       " 'type': 'VV',\n",
       " 'version': 'V1.3.B',\n",
       " 'path': PosixPath('ASAR_L_JOINT_FP_ID25906_LINE02_RUN01_280721_LEVEL1_VV_V1.3.B.tif')}"
      ]
     },
     "execution_count": 70,
     "metadata": {},
     "output_type": "execute_result"
    }
   ],
   "source": [
    "## not using this \n",
    "def get_band_type(band, type_, coll=collection_rslc):\n",
    "    # quick way to organize data\n",
    "    for data in coll:\n",
    "        if band in data['band']:\n",
    "            if type_ == data['type']:\n",
    "                return data\n",
    "get_band_type('L', 'VV')"
   ]
  },
  {
   "cell_type": "markdown",
   "id": "f6d40f73-5fa2-45e4-9f3a-7f0c79dc9706",
   "metadata": {},
   "source": [
    "# Setup output folders and filenames"
   ]
  },
  {
   "cell_type": "code",
   "execution_count": 72,
   "id": "131a3dbc-ffc9-475f-a2a6-7350e56b15b9",
   "metadata": {},
   "outputs": [
    {
     "data": {
      "text/plain": [
       "'ASAR_L_RSLC_07282021_VV_I.bin'"
      ]
     },
     "execution_count": 72,
     "metadata": {},
     "output_type": "execute_result"
    }
   ],
   "source": [
    "def get_outfilename(data, variable):\n",
    "    return f\"ASAR_{'_'.join(data['band'])}_RSLC_{data['date'].strftime('%m%d%Y')}_{data['type']}_{variable}.bin\"\n",
    "get_outfilename(rslc_data, 'I')"
   ]
  },
  {
   "cell_type": "code",
   "execution_count": 89,
   "id": "6b860a13-6f33-49cd-9dfc-a7255603d586",
   "metadata": {},
   "outputs": [
    {
     "data": {
      "text/plain": [
       "'ASAR_RSLC_07282021_ID25906_LINE02_RUN01'"
      ]
     },
     "execution_count": 89,
     "metadata": {},
     "output_type": "execute_result"
    }
   ],
   "source": [
    "def get_collectionname(data):\n",
    "    return f\"ASAR_RSLC_{data['date'].strftime('%m%d%Y')}_{data['id']}_{data['line']}_{data['run']}\"\n",
    "get_collectionname(rslc_data)"
   ]
  },
  {
   "cell_type": "code",
   "execution_count": 81,
   "id": "81f8c18d-30a1-4cb0-bff9-b1adbe727b6d",
   "metadata": {},
   "outputs": [],
   "source": [
    "# make output path\n",
    "pathlib.Path('./polsar').mkdir(exist_ok=True, parents=True)"
   ]
  },
  {
   "cell_type": "code",
   "execution_count": null,
   "id": "d987faea-463b-4ed0-b2ea-16b457728492",
   "metadata": {},
   "outputs": [],
   "source": []
  },
  {
   "cell_type": "code",
   "execution_count": 91,
   "id": "aa185c04-cefb-43e6-8ca7-6ce921c17925",
   "metadata": {},
   "outputs": [
    {
     "name": "stdout",
     "output_type": "stream",
     "text": [
      "Reading: ASAR_L_RSLC_07282021_VV_I.bin\n",
      "Writing Binary: ASAR_L_RSLC_07282021_VV_I.bin\n",
      "Reading: ASAR_L_RSLC_07282021_VV_Q.bin\n",
      "Writing Binary: ASAR_L_RSLC_07282021_VV_Q.bin\n"
     ]
    }
   ],
   "source": [
    "def write_binary(data):\n",
    "    for variable, order in zip(['I', 'Q'], range(1, 3)):\n",
    "        outfile_name = get_outfilename(data, variable)\n",
    "        collection_name = get_collectionname(data)\n",
    "        try:\n",
    "            print(f'Reading: {outfile_name}')\n",
    "            file = rio.open(data['path'].as_posix(), 'r')\n",
    "            A = file.read(order)\n",
    "        except:\n",
    "            print(f'ERROR: {outfile_name}')\n",
    "        finally:\n",
    "            file.close()\n",
    "        print(f'Writing Binary: {outfile_name}')\n",
    "        out_path = pathlib.Path('./polsar') / collection_name / data['band'][0]\n",
    "        out_path.mkdir(exist_ok=True, parents=True)\n",
    "        A.tofile(out_path / outfile_name)\n",
    "write_binary(rslc_data)"
   ]
  },
  {
   "cell_type": "code",
   "execution_count": 85,
   "id": "7c5cf2e3-3834-4efe-b7e4-a93f6a8bab57",
   "metadata": {},
   "outputs": [
    {
     "name": "stdout",
     "output_type": "stream",
     "text": [
      "Reading: ASAR_L_RSLC_07282021_VH_I.bin\n",
      "Writing Binary: ASAR_L_RSLC_07282021_VH_I.bin\n",
      "Reading: ASAR_L_RSLC_07282021_VH_Q.bin\n",
      "Writing Binary: ASAR_L_RSLC_07282021_VH_Q.bin\n",
      "Reading: ASAR_S_RSLC_07282021_VH_I.bin\n",
      "Writing Binary: ASAR_S_RSLC_07282021_VH_I.bin\n",
      "Reading: ASAR_S_RSLC_07282021_VH_Q.bin\n",
      "Writing Binary: ASAR_S_RSLC_07282021_VH_Q.bin\n",
      "Reading: ASAR_L_RSLC_07282021_HV_I.bin\n",
      "Writing Binary: ASAR_L_RSLC_07282021_HV_I.bin\n",
      "Reading: ASAR_L_RSLC_07282021_HV_Q.bin\n",
      "Writing Binary: ASAR_L_RSLC_07282021_HV_Q.bin\n",
      "Reading: ASAR_S_RSLC_07282021_VV_I.bin\n",
      "Writing Binary: ASAR_S_RSLC_07282021_VV_I.bin\n",
      "Reading: ASAR_S_RSLC_07282021_VV_Q.bin\n",
      "Writing Binary: ASAR_S_RSLC_07282021_VV_Q.bin\n",
      "Reading: ASAR_L_RSLC_07282021_VV_I.bin\n",
      "Writing Binary: ASAR_L_RSLC_07282021_VV_I.bin\n",
      "Reading: ASAR_L_RSLC_07282021_VV_Q.bin\n",
      "Writing Binary: ASAR_L_RSLC_07282021_VV_Q.bin\n",
      "Reading: ASAR_S_RSLC_07282021_HV_I.bin\n",
      "Writing Binary: ASAR_S_RSLC_07282021_HV_I.bin\n",
      "Reading: ASAR_S_RSLC_07282021_HV_Q.bin\n",
      "Writing Binary: ASAR_S_RSLC_07282021_HV_Q.bin\n",
      "Reading: ASAR_L_RSLC_07282021_HH_I.bin\n",
      "Writing Binary: ASAR_L_RSLC_07282021_HH_I.bin\n",
      "Reading: ASAR_L_RSLC_07282021_HH_Q.bin\n",
      "Writing Binary: ASAR_L_RSLC_07282021_HH_Q.bin\n",
      "Reading: ASAR_S_RSLC_07282021_HH_I.bin\n",
      "Writing Binary: ASAR_S_RSLC_07282021_HH_I.bin\n",
      "Reading: ASAR_S_RSLC_07282021_HH_Q.bin\n",
      "Writing Binary: ASAR_S_RSLC_07282021_HH_Q.bin\n"
     ]
    },
    {
     "data": {
      "text/plain": [
       "[None, None, None, None, None, None, None, None]"
      ]
     },
     "execution_count": 85,
     "metadata": {},
     "output_type": "execute_result"
    }
   ],
   "source": [
    "# write all of the dat to polsar directory\n",
    "[write_binary(data) for data in collection_rslc if data['type'] != 'INC']"
   ]
  },
  {
   "cell_type": "code",
   "execution_count": null,
   "id": "8e3a63be-6460-4e07-b07f-a3db10244db0",
   "metadata": {},
   "outputs": [],
   "source": [
    "# get band "
   ]
  },
  {
   "cell_type": "code",
   "execution_count": 116,
   "id": "b25eb3a2-9ace-4446-8588-2300cf1d0d1f",
   "metadata": {},
   "outputs": [],
   "source": [
    "# Write config files\n",
    "bands_ = list(set([data['band'][0] for data in collection_rslc]))\n",
    "for data in collection_rslc:\n",
    "    collection_name = get_collectionname(data)\n",
    "    out_path = pathlib.Path('./polsar') / collection_name / data['band'][0]\n",
    "    with open(out_path / 'config.txt', 'w') as f_:\n",
    "        f_.write('Nrow\\n')\n",
    "        f_.write(f'{int(data[\"nrows\"])}\\n')\n",
    "        f_.write('---------\\n')\n",
    "\n",
    "        f_.write('Ncol\\n')\n",
    "        f_.write(f'{int(data[\"ncols\"])}\\n')\n",
    "        f_.write('---------\\n')\n",
    "\n",
    "        f_.write('PolarCase\\n')\n",
    "        f_.write(f'{data[\"polar_case\"]}\\n')\n",
    "        f_.write('---------\\n')\n",
    "\n",
    "        f_.write('PolarType\\n')\n",
    "        f_.write(f'{data[\"polar_type\"]}\\n')\n",
    "                    \n",
    "            "
   ]
  },
  {
   "cell_type": "code",
   "execution_count": 107,
   "id": "db5883ac-f5cc-47bc-8ac0-15c2fb41b7ea",
   "metadata": {},
   "outputs": [
    {
     "name": "stdout",
     "output_type": "stream",
     "text": [
      "\n",
      "\n"
     ]
    }
   ],
   "source": [
    "print('\\n')"
   ]
  },
  {
   "cell_type": "code",
   "execution_count": null,
   "id": "4b2e3bd4-fe86-41a7-b2d7-5bb92cf450df",
   "metadata": {},
   "outputs": [],
   "source": []
  }
 ],
 "metadata": {
  "kernelspec": {
   "display_name": "Python 3 (ipykernel)",
   "language": "python",
   "name": "python3"
  },
  "language_info": {
   "codemirror_mode": {
    "name": "ipython",
    "version": 3
   },
   "file_extension": ".py",
   "mimetype": "text/x-python",
   "name": "python",
   "nbconvert_exporter": "python",
   "pygments_lexer": "ipython3",
   "version": "3.10.4"
  }
 },
 "nbformat": 4,
 "nbformat_minor": 5
}
